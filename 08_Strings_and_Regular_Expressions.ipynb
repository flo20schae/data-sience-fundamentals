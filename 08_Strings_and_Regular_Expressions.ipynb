{
  "cells": [
    {
      "cell_type": "markdown",
      "metadata": {
        "id": "view-in-github",
        "colab_type": "text"
      },
      "source": [
        "<a href=\"https://colab.research.google.com/github/flo20schae/data-sience-fundamentals/blob/main/08_Strings_and_Regular_Expressions.ipynb\" target=\"_parent\"><img src=\"https://colab.research.google.com/assets/colab-badge.svg\" alt=\"Open In Colab\"/></a>"
      ]
    },
    {
      "cell_type": "markdown",
      "metadata": {
        "id": "rWp1ym-qpRar"
      },
      "source": [
        "<!--BOOK_INFORMATION-->\n",
        "<img align=\"left\" style=\"padding-right:10px;\" src=\"https://github.com/sigvehaug/DSF-DCBP/blob/main/fig/cover-small.jpg?raw=1\">\n",
        "*This notebook contains an excerpt from the [Whirlwind Tour of Python](http://www.oreilly.com/programming/free/a-whirlwind-tour-of-python.csp) by Jake VanderPlas; the content is available [on GitHub](https://github.com/jakevdp/WhirlwindTourOfPython).*\n",
        "\n",
        "*The text and code are released under the [CC0](https://github.com/jakevdp/WhirlwindTourOfPython/blob/master/LICENSE) license; see also the companion project, the [Python Data Science Handbook](https://github.com/jakevdp/PythonDataScienceHandbook).*\n"
      ]
    },
    {
      "cell_type": "markdown",
      "metadata": {
        "id": "Fd2UVKX6pRaw"
      },
      "source": [
        "<!--NAVIGATION-->\n",
        "< [Modules and Packages](13-Modules-and-Packages.ipynb) | [Contents](Index.ipynb) | [A Preview of Data Science Tools](15-Preview-of-Data-Science-Tools.ipynb) >"
      ]
    },
    {
      "cell_type": "markdown",
      "metadata": {
        "id": "uGse1P6OpRaw"
      },
      "source": [
        "# String Manipulation and Regular Expressions"
      ]
    },
    {
      "cell_type": "markdown",
      "metadata": {
        "id": "BCRWVxz7pRax"
      },
      "source": [
        "One place where the Python language really shines is in the manipulation of strings.\n",
        "This section will cover some of Python's built-in string methods and formatting operations, before moving on to a quick guide to the extremely useful subject of *regular expressions*.\n",
        "Such string manipulation patterns come up often in the context of data science work, and is one big perk of Python in this context.\n",
        "\n",
        "Strings in Python can be defined using either single or double quotations (they are functionally equivalent):"
      ]
    },
    {
      "cell_type": "code",
      "execution_count": 1,
      "metadata": {
        "id": "IFfeBEUJpRax",
        "outputId": "d4fe9da8-f7a0-4dae-97cb-13b104e00f68",
        "colab": {
          "base_uri": "https://localhost:8080/"
        }
      },
      "outputs": [
        {
          "output_type": "execute_result",
          "data": {
            "text/plain": [
              "True"
            ]
          },
          "metadata": {},
          "execution_count": 1
        }
      ],
      "source": [
        "x = 'a string'\n",
        "y = \"a string\"\n",
        "x == y"
      ]
    },
    {
      "cell_type": "markdown",
      "metadata": {
        "id": "84VxvYYCpRa2"
      },
      "source": [
        "In addition, it is possible to define multi-line strings using a triple-quote syntax:"
      ]
    },
    {
      "cell_type": "code",
      "execution_count": 3,
      "metadata": {
        "collapsed": true,
        "id": "YERtoUmmpRa2"
      },
      "outputs": [],
      "source": [
        "multiline = \"\"\"\n",
        "one\n",
        "two\n",
        "three\n",
        "\"\"\""
      ]
    },
    {
      "cell_type": "markdown",
      "metadata": {
        "id": "ykTv5uevpRa3"
      },
      "source": [
        "With this, let's take a quick tour of some of Python's string manipulation tools."
      ]
    },
    {
      "cell_type": "markdown",
      "metadata": {
        "id": "C5_e6itnpRa3"
      },
      "source": [
        "## Simple String Manipulation in Python\n",
        "\n",
        "For basic manipulation of strings, Python's built-in string methods can be extremely convenient.\n",
        "If you have a background working in C or another low-level language, you will likely find the simplicity of Python's methods extremely refreshing.\n",
        "We introduced Python's string type and a few of these methods earlier; here we'll dive a bit deeper"
      ]
    },
    {
      "cell_type": "markdown",
      "metadata": {
        "id": "a4pH454_pRa4"
      },
      "source": [
        "### Formatting strings: Adjusting case\n",
        "\n",
        "Python makes it quite easy to adjust the case of a string.\n",
        "Here we'll look at the ``upper()``, ``lower()``, ``capitalize()``, ``title()``, and ``swapcase()`` methods, using the following messy string as an example:"
      ]
    },
    {
      "cell_type": "code",
      "execution_count": 4,
      "metadata": {
        "collapsed": true,
        "id": "rAGRHFsipRa5"
      },
      "outputs": [],
      "source": [
        "fox = \"tHe qUICk bROWn fOx.\""
      ]
    },
    {
      "cell_type": "markdown",
      "metadata": {
        "id": "ef2U3G5SpRa5"
      },
      "source": [
        "To convert the entire string into upper-case or lower-case, you can use the ``upper()`` or ``lower()`` methods respectively:"
      ]
    },
    {
      "cell_type": "code",
      "execution_count": 5,
      "metadata": {
        "id": "urnfEt8bpRa5",
        "outputId": "cb390c2e-c5b7-47dd-8d9f-7a4821a1e145",
        "colab": {
          "base_uri": "https://localhost:8080/",
          "height": 35
        }
      },
      "outputs": [
        {
          "output_type": "execute_result",
          "data": {
            "text/plain": [
              "'THE QUICK BROWN FOX.'"
            ],
            "application/vnd.google.colaboratory.intrinsic+json": {
              "type": "string"
            }
          },
          "metadata": {},
          "execution_count": 5
        }
      ],
      "source": [
        "fox.upper()"
      ]
    },
    {
      "cell_type": "code",
      "execution_count": 6,
      "metadata": {
        "id": "dHM5zDkapRa6",
        "outputId": "9e02e053-167c-4e09-cb10-2eb9500c0915",
        "colab": {
          "base_uri": "https://localhost:8080/",
          "height": 35
        }
      },
      "outputs": [
        {
          "output_type": "execute_result",
          "data": {
            "text/plain": [
              "'the quick brown fox.'"
            ],
            "application/vnd.google.colaboratory.intrinsic+json": {
              "type": "string"
            }
          },
          "metadata": {},
          "execution_count": 6
        }
      ],
      "source": [
        "fox.lower()"
      ]
    },
    {
      "cell_type": "markdown",
      "metadata": {
        "id": "IvtqdTwppRa6"
      },
      "source": [
        "A common formatting need is to capitalize just the first letter of each word, or perhaps the first letter of each sentence.\n",
        "This can be done with the ``title()`` and ``capitalize()`` methods:"
      ]
    },
    {
      "cell_type": "code",
      "execution_count": 7,
      "metadata": {
        "id": "HnC16YgxpRa6",
        "outputId": "a6c613e9-ea9f-410a-8263-de87ff8711a6",
        "colab": {
          "base_uri": "https://localhost:8080/",
          "height": 35
        }
      },
      "outputs": [
        {
          "output_type": "execute_result",
          "data": {
            "text/plain": [
              "'The Quick Brown Fox.'"
            ],
            "application/vnd.google.colaboratory.intrinsic+json": {
              "type": "string"
            }
          },
          "metadata": {},
          "execution_count": 7
        }
      ],
      "source": [
        "fox.title()"
      ]
    },
    {
      "cell_type": "code",
      "execution_count": 8,
      "metadata": {
        "id": "FKFqxQRypRa7",
        "outputId": "a17697fb-c259-4d6d-d26f-aae3038dfb38",
        "colab": {
          "base_uri": "https://localhost:8080/",
          "height": 35
        }
      },
      "outputs": [
        {
          "output_type": "execute_result",
          "data": {
            "text/plain": [
              "'The quick brown fox.'"
            ],
            "application/vnd.google.colaboratory.intrinsic+json": {
              "type": "string"
            }
          },
          "metadata": {},
          "execution_count": 8
        }
      ],
      "source": [
        "fox.capitalize()"
      ]
    },
    {
      "cell_type": "markdown",
      "metadata": {
        "id": "H6N3OJ3GpRa7"
      },
      "source": [
        "The cases can be swapped using the ``swapcase()`` method:"
      ]
    },
    {
      "cell_type": "code",
      "execution_count": 9,
      "metadata": {
        "id": "om_ReVAPpRa7",
        "outputId": "7904b433-b240-410e-9832-b47672f20230",
        "colab": {
          "base_uri": "https://localhost:8080/",
          "height": 35
        }
      },
      "outputs": [
        {
          "output_type": "execute_result",
          "data": {
            "text/plain": [
              "'ThE QuicK BrowN FoX.'"
            ],
            "application/vnd.google.colaboratory.intrinsic+json": {
              "type": "string"
            }
          },
          "metadata": {},
          "execution_count": 9
        }
      ],
      "source": [
        "fox.swapcase()"
      ]
    },
    {
      "cell_type": "markdown",
      "metadata": {
        "id": "rInrFCnjpRa7"
      },
      "source": [
        "### Formatting strings: Adding and removing spaces\n",
        "\n",
        "Another common need is to remove spaces (or other characters) from the beginning or end of the string.\n",
        "The basic method of removing characters is the ``strip()`` method, which strips whitespace from the beginning and end of the line:"
      ]
    },
    {
      "cell_type": "code",
      "execution_count": 10,
      "metadata": {
        "colab": {
          "base_uri": "https://localhost:8080/",
          "height": 35
        },
        "id": "w92W83pZpRa8",
        "outputId": "54858269-1a49-47cb-cb1b-28b99470a89f"
      },
      "outputs": [
        {
          "output_type": "execute_result",
          "data": {
            "text/plain": [
              "'this is the content'"
            ],
            "application/vnd.google.colaboratory.intrinsic+json": {
              "type": "string"
            }
          },
          "metadata": {},
          "execution_count": 10
        }
      ],
      "source": [
        "line = '         this is the content         '\n",
        "line.strip()"
      ]
    },
    {
      "cell_type": "markdown",
      "metadata": {
        "id": "V8jX0ZdlpRa8"
      },
      "source": [
        "To remove just space to the right or left, use ``rstrip()`` or ``lstrip()`` respectively:"
      ]
    },
    {
      "cell_type": "code",
      "execution_count": 12,
      "metadata": {
        "colab": {
          "base_uri": "https://localhost:8080/"
        },
        "id": "8n4ga1U8pRa8",
        "outputId": "51997d38-b808-40de-82f8-e48b1322d6e1"
      },
      "outputs": [
        {
          "output_type": "execute_result",
          "data": {
            "text/plain": [
              "7"
            ]
          },
          "metadata": {},
          "execution_count": 12
        }
      ],
      "source": [
        "7"
      ]
    },
    {
      "cell_type": "code",
      "execution_count": 11,
      "metadata": {
        "colab": {
          "base_uri": "https://localhost:8080/",
          "height": 35
        },
        "id": "bQiFoYrQpRa9",
        "outputId": "7f301d66-53f3-48dc-d94d-5d9f82ed9242"
      },
      "outputs": [
        {
          "output_type": "execute_result",
          "data": {
            "text/plain": [
              "'this is the content         '"
            ],
            "application/vnd.google.colaboratory.intrinsic+json": {
              "type": "string"
            }
          },
          "metadata": {},
          "execution_count": 11
        }
      ],
      "source": [
        "line.lstrip()"
      ]
    },
    {
      "cell_type": "markdown",
      "metadata": {
        "id": "0cCOoElgpRa9"
      },
      "source": [
        "To remove characters other than spaces, you can pass the desired character to the ``strip()`` method:"
      ]
    },
    {
      "cell_type": "code",
      "execution_count": 14,
      "metadata": {
        "colab": {
          "base_uri": "https://localhost:8080/",
          "height": 35
        },
        "id": "zxOrLmrjpRa9",
        "outputId": "d305133a-efdd-4b08-ab18-ca473448b573"
      },
      "outputs": [
        {
          "output_type": "execute_result",
          "data": {
            "text/plain": [
              "'435'"
            ],
            "application/vnd.google.colaboratory.intrinsic+json": {
              "type": "string"
            }
          },
          "metadata": {},
          "execution_count": 14
        }
      ],
      "source": [
        "num = \"000000000000435\"\n",
        "num.strip('0')"
      ]
    },
    {
      "cell_type": "markdown",
      "metadata": {
        "id": "I0LBITTapRa9"
      },
      "source": [
        "The opposite of this operation, adding spaces or other characters, can be accomplished using the ``center()``, ``ljust()``, and ``rjust()`` methods.\n",
        "\n",
        "For example, we can use the ``center()`` method to center a given string within a given number of spaces:"
      ]
    },
    {
      "cell_type": "code",
      "execution_count": 16,
      "metadata": {
        "colab": {
          "base_uri": "https://localhost:8080/",
          "height": 35
        },
        "id": "_G9TYoV5pRa-",
        "outputId": "7e33b97f-c681-42e3-e45b-9fce704689b8"
      },
      "outputs": [
        {
          "output_type": "execute_result",
          "data": {
            "text/plain": [
              "'     this is the content      '"
            ],
            "application/vnd.google.colaboratory.intrinsic+json": {
              "type": "string"
            }
          },
          "metadata": {},
          "execution_count": 16
        }
      ],
      "source": [
        "line = \"this is the content\"\n",
        "line.center(30)"
      ]
    },
    {
      "cell_type": "markdown",
      "metadata": {
        "id": "0HIDVa4ZpRa-"
      },
      "source": [
        "Similarly, ``ljust()`` and ``rjust()`` will left-justify or right-justify the string within spaces of a given length:"
      ]
    },
    {
      "cell_type": "code",
      "execution_count": 17,
      "metadata": {
        "colab": {
          "base_uri": "https://localhost:8080/",
          "height": 35
        },
        "id": "ty583PZ_pRa-",
        "outputId": "ea04e6e1-1f8d-4d4f-fe58-77c8cd2006c5"
      },
      "outputs": [
        {
          "output_type": "execute_result",
          "data": {
            "text/plain": [
              "'this is the content           '"
            ],
            "application/vnd.google.colaboratory.intrinsic+json": {
              "type": "string"
            }
          },
          "metadata": {},
          "execution_count": 17
        }
      ],
      "source": [
        "line.ljust(30)"
      ]
    },
    {
      "cell_type": "code",
      "execution_count": 18,
      "metadata": {
        "colab": {
          "base_uri": "https://localhost:8080/",
          "height": 35
        },
        "id": "8wuGLBF2pRa-",
        "outputId": "30aa4c9e-e418-44e8-d29c-8ea265ebc3f6"
      },
      "outputs": [
        {
          "output_type": "execute_result",
          "data": {
            "text/plain": [
              "'           this is the content'"
            ],
            "application/vnd.google.colaboratory.intrinsic+json": {
              "type": "string"
            }
          },
          "metadata": {},
          "execution_count": 18
        }
      ],
      "source": [
        "line.rjust(30)"
      ]
    },
    {
      "cell_type": "markdown",
      "metadata": {
        "id": "xhEbpJycpRa-"
      },
      "source": [
        "All these methods additionally accept any character which will be used to fill the space.\n",
        "For example:"
      ]
    },
    {
      "cell_type": "code",
      "execution_count": 19,
      "metadata": {
        "colab": {
          "base_uri": "https://localhost:8080/",
          "height": 35
        },
        "id": "EG896LaDpRa_",
        "outputId": "64c407cc-4906-4bb3-d992-8fa1bbb52c63"
      },
      "outputs": [
        {
          "output_type": "execute_result",
          "data": {
            "text/plain": [
              "'0000000435'"
            ],
            "application/vnd.google.colaboratory.intrinsic+json": {
              "type": "string"
            }
          },
          "metadata": {},
          "execution_count": 19
        }
      ],
      "source": [
        "'435'.rjust(10, '0')"
      ]
    },
    {
      "cell_type": "markdown",
      "metadata": {
        "id": "eJbsWrhOpRa_"
      },
      "source": [
        "Because zero-filling is such a common need, Python also provides ``zfill()``, which is a special method to right-pad a string with zeros:"
      ]
    },
    {
      "cell_type": "code",
      "execution_count": 20,
      "metadata": {
        "colab": {
          "base_uri": "https://localhost:8080/",
          "height": 35
        },
        "id": "ddlNKJdJpRa_",
        "outputId": "a9bebdab-001f-492e-f69a-402b5dbf8dae"
      },
      "outputs": [
        {
          "output_type": "execute_result",
          "data": {
            "text/plain": [
              "'0000000435'"
            ],
            "application/vnd.google.colaboratory.intrinsic+json": {
              "type": "string"
            }
          },
          "metadata": {},
          "execution_count": 20
        }
      ],
      "source": [
        "'435'.zfill(10)"
      ]
    },
    {
      "cell_type": "markdown",
      "metadata": {
        "id": "YIoOILbbpRa_"
      },
      "source": [
        "### Finding and replacing substrings\n",
        "\n",
        "If you want to find occurrences of a certain character in a string, the ``find()``/``rfind()``, ``index()``/``rindex()``, and ``replace()`` methods are the best built-in methods.\n",
        "\n",
        "``find()`` and ``index()`` are very similar, in that they search for the first occurrence of a character or substring within a string, and return the index of the substring:"
      ]
    },
    {
      "cell_type": "code",
      "execution_count": 21,
      "metadata": {
        "id": "HHpFbiEopRbA",
        "outputId": "772c279a-b944-4251-d8e3-bc3f45fb6863",
        "colab": {
          "base_uri": "https://localhost:8080/"
        }
      },
      "outputs": [
        {
          "output_type": "execute_result",
          "data": {
            "text/plain": [
              "16"
            ]
          },
          "metadata": {},
          "execution_count": 21
        }
      ],
      "source": [
        "line = 'the quick brown fox jumped over a lazy dog'\n",
        "line.find('fox')"
      ]
    },
    {
      "cell_type": "code",
      "execution_count": 22,
      "metadata": {
        "id": "az41YnhNpRbA",
        "outputId": "e22f31c3-07b5-424e-d35b-1eca3b64e56b",
        "colab": {
          "base_uri": "https://localhost:8080/"
        }
      },
      "outputs": [
        {
          "output_type": "execute_result",
          "data": {
            "text/plain": [
              "16"
            ]
          },
          "metadata": {},
          "execution_count": 22
        }
      ],
      "source": [
        "line.index('fox')"
      ]
    },
    {
      "cell_type": "markdown",
      "metadata": {
        "id": "w1zVomSspRbA"
      },
      "source": [
        "The only difference between ``find()`` and ``index()`` is their behavior when the search string is not found; ``find()`` returns ``-1``, while ``index()`` raises a ``ValueError``:"
      ]
    },
    {
      "cell_type": "code",
      "execution_count": 23,
      "metadata": {
        "id": "E3FIWy1rpRbA",
        "outputId": "f92a7088-c4f5-4b5a-ae0c-1abc53a40fa9",
        "colab": {
          "base_uri": "https://localhost:8080/"
        }
      },
      "outputs": [
        {
          "output_type": "execute_result",
          "data": {
            "text/plain": [
              "-1"
            ]
          },
          "metadata": {},
          "execution_count": 23
        }
      ],
      "source": [
        "line.find('bear')"
      ]
    },
    {
      "cell_type": "code",
      "execution_count": 26,
      "metadata": {
        "id": "GZQxqaO9pRbA",
        "outputId": "3a9f1fea-83d7-41c4-ca9b-402d805017e9",
        "colab": {
          "base_uri": "https://localhost:8080/",
          "height": 166
        }
      },
      "outputs": [
        {
          "output_type": "error",
          "ename": "ValueError",
          "evalue": "ignored",
          "traceback": [
            "\u001b[0;31m---------------------------------------------------------------------------\u001b[0m",
            "\u001b[0;31mValueError\u001b[0m                                Traceback (most recent call last)",
            "\u001b[0;32m<ipython-input-26-adf599eb4c79>\u001b[0m in \u001b[0;36m<module>\u001b[0;34m\u001b[0m\n\u001b[0;32m----> 1\u001b[0;31m \u001b[0mline\u001b[0m\u001b[0;34m.\u001b[0m\u001b[0mindex\u001b[0m\u001b[0;34m(\u001b[0m\u001b[0;34m'bear'\u001b[0m\u001b[0;34m)\u001b[0m\u001b[0;34m\u001b[0m\u001b[0;34m\u001b[0m\u001b[0m\n\u001b[0m",
            "\u001b[0;31mValueError\u001b[0m: substring not found"
          ]
        }
      ],
      "source": [
        " line.index('bear')"
      ]
    },
    {
      "cell_type": "markdown",
      "metadata": {
        "id": "MuS-VmfXpRbB"
      },
      "source": [
        "The related ``rfind()`` and ``rindex()`` work similarly, except they search for the first occurrence from the end rather than the beginning of the string:"
      ]
    },
    {
      "cell_type": "code",
      "execution_count": 25,
      "metadata": {
        "id": "ML35Mw72pRbB",
        "outputId": "ef4065b8-e19d-429e-fa39-5ad60addff20",
        "colab": {
          "base_uri": "https://localhost:8080/"
        }
      },
      "outputs": [
        {
          "output_type": "execute_result",
          "data": {
            "text/plain": [
              "35"
            ]
          },
          "metadata": {},
          "execution_count": 25
        }
      ],
      "source": [
        "line.rfind('a')"
      ]
    },
    {
      "cell_type": "markdown",
      "metadata": {
        "id": "hw8qg9zLpRbB"
      },
      "source": [
        "For the special case of checking for a substring at the beginning or end of a string, Python provides the ``startswith()`` and ``endswith()`` methods:"
      ]
    },
    {
      "cell_type": "code",
      "execution_count": 27,
      "metadata": {
        "id": "YgIwpG5npRbB",
        "outputId": "df8b3140-fd19-4f64-edde-b66251fc021d",
        "colab": {
          "base_uri": "https://localhost:8080/"
        }
      },
      "outputs": [
        {
          "output_type": "execute_result",
          "data": {
            "text/plain": [
              "True"
            ]
          },
          "metadata": {},
          "execution_count": 27
        }
      ],
      "source": [
        "line.endswith('dog')"
      ]
    },
    {
      "cell_type": "code",
      "execution_count": 28,
      "metadata": {
        "id": "zZeeT3XXpRbB",
        "outputId": "bc087a86-ee8c-4b5f-db84-cb5c7f58b68b",
        "colab": {
          "base_uri": "https://localhost:8080/"
        }
      },
      "outputs": [
        {
          "output_type": "execute_result",
          "data": {
            "text/plain": [
              "False"
            ]
          },
          "metadata": {},
          "execution_count": 28
        }
      ],
      "source": [
        "line.startswith('fox')"
      ]
    },
    {
      "cell_type": "markdown",
      "metadata": {
        "id": "rDF7pUttpRbB"
      },
      "source": [
        "To go one step further and replace a given substring with a new string, you can use the ``replace()`` method.\n",
        "Here, let's replace ``'brown'`` with ``'red'``:"
      ]
    },
    {
      "cell_type": "code",
      "execution_count": 29,
      "metadata": {
        "id": "d05NsVKzpRbB",
        "outputId": "ddb30e9c-f8b4-4d4a-865b-a05c6c3e5739",
        "colab": {
          "base_uri": "https://localhost:8080/",
          "height": 35
        }
      },
      "outputs": [
        {
          "output_type": "execute_result",
          "data": {
            "text/plain": [
              "'the quick red fox jumped over a lazy dog'"
            ],
            "application/vnd.google.colaboratory.intrinsic+json": {
              "type": "string"
            }
          },
          "metadata": {},
          "execution_count": 29
        }
      ],
      "source": [
        "line.replace('brown', 'red')"
      ]
    },
    {
      "cell_type": "markdown",
      "metadata": {
        "id": "OxHYmn0cpRbC"
      },
      "source": [
        "The ``replace()`` function returns a new string, and will replace all occurrences of the input:"
      ]
    },
    {
      "cell_type": "code",
      "execution_count": 30,
      "metadata": {
        "id": "eoBJXl4npRbC",
        "outputId": "16b6568f-2575-408d-dbf4-31cab0f7f8f4",
        "colab": {
          "base_uri": "https://localhost:8080/",
          "height": 35
        }
      },
      "outputs": [
        {
          "output_type": "execute_result",
          "data": {
            "text/plain": [
              "'the quick br--wn f--x jumped --ver a lazy d--g'"
            ],
            "application/vnd.google.colaboratory.intrinsic+json": {
              "type": "string"
            }
          },
          "metadata": {},
          "execution_count": 30
        }
      ],
      "source": [
        "line.replace('o', '--')"
      ]
    },
    {
      "cell_type": "markdown",
      "metadata": {
        "id": "GJPypkiDpRbC"
      },
      "source": [
        "For a more flexible approach to this ``replace()`` functionality, see the discussion of regular expressions in [Flexible Pattern Matching with Regular Expressions](#Flexible-Pattern-Matching-with-Regular-Expressions)."
      ]
    },
    {
      "cell_type": "markdown",
      "metadata": {
        "id": "Gxl5MpGcpRbC"
      },
      "source": [
        "### Splitting and partitioning strings\n",
        "\n",
        "If you would like to find a substring *and then* split the string based on its location, the ``partition()`` and/or ``split()`` methods are what you're looking for.\n",
        "Both will return a sequence of substrings.\n",
        "\n",
        "The ``partition()`` method returns a tuple with three elements: the substring before the first instance of the split-point, the split-point itself, and the substring after:"
      ]
    },
    {
      "cell_type": "code",
      "execution_count": 31,
      "metadata": {
        "id": "0AzSDjVqpRbC",
        "outputId": "fb0e03ee-51f0-40d7-c7b8-f4f2b941be3e",
        "colab": {
          "base_uri": "https://localhost:8080/"
        }
      },
      "outputs": [
        {
          "output_type": "execute_result",
          "data": {
            "text/plain": [
              "('the quick brown ', 'fox', ' jumped over a lazy dog')"
            ]
          },
          "metadata": {},
          "execution_count": 31
        }
      ],
      "source": [
        "line.partition('fox')"
      ]
    },
    {
      "cell_type": "markdown",
      "metadata": {
        "id": "W9ZN-Z4UpRbC"
      },
      "source": [
        "The ``rpartition()`` method is similar, but searches from the right of the string.\n",
        "\n",
        "The ``split()`` method is perhaps more useful; it finds *all* instances of the split-point and returns the substrings in between.\n",
        "The default is to split on any whitespace, returning a list of the individual words in a string:"
      ]
    },
    {
      "cell_type": "code",
      "execution_count": 32,
      "metadata": {
        "id": "8TaYA9WSpRbD",
        "outputId": "3c41b20a-8717-45d4-a04e-58ffb251f8eb",
        "colab": {
          "base_uri": "https://localhost:8080/"
        }
      },
      "outputs": [
        {
          "output_type": "execute_result",
          "data": {
            "text/plain": [
              "['the', 'quick', 'brown', 'fox', 'jumped', 'over', 'a', 'lazy', 'dog']"
            ]
          },
          "metadata": {},
          "execution_count": 32
        }
      ],
      "source": [
        "line.split()"
      ]
    },
    {
      "cell_type": "markdown",
      "metadata": {
        "id": "2fpeDwSXpRbD"
      },
      "source": [
        "A related method is ``splitlines()``, which splits on newline characters.\n",
        "Let's do this with a Haiku, popularly attributed to the 17th-century poet Matsuo Bashō:"
      ]
    },
    {
      "cell_type": "code",
      "execution_count": 33,
      "metadata": {
        "id": "s0vJM79EpRbD",
        "outputId": "884c3998-b557-4d08-cc8c-be67b0b17f43",
        "colab": {
          "base_uri": "https://localhost:8080/"
        }
      },
      "outputs": [
        {
          "output_type": "execute_result",
          "data": {
            "text/plain": [
              "['matsushima-ya', 'aah matsushima-ya', 'matsushima-ya']"
            ]
          },
          "metadata": {},
          "execution_count": 33
        }
      ],
      "source": [
        "haiku = \"\"\"matsushima-ya\n",
        "aah matsushima-ya\n",
        "matsushima-ya\"\"\"\n",
        "\n",
        "haiku.splitlines()"
      ]
    },
    {
      "cell_type": "markdown",
      "metadata": {
        "id": "yVm8ZlxppRbD"
      },
      "source": [
        "Note that if you would like to undo a ``split()``, you can use the ``join()`` method, which returns a string built from a splitpoint and an iterable:"
      ]
    },
    {
      "cell_type": "code",
      "execution_count": 34,
      "metadata": {
        "id": "zSbBxmJ_pRbD",
        "outputId": "0bc8b247-5c40-41ba-a838-99555af5fe23",
        "colab": {
          "base_uri": "https://localhost:8080/",
          "height": 35
        }
      },
      "outputs": [
        {
          "output_type": "execute_result",
          "data": {
            "text/plain": [
              "'1--2--3'"
            ],
            "application/vnd.google.colaboratory.intrinsic+json": {
              "type": "string"
            }
          },
          "metadata": {},
          "execution_count": 34
        }
      ],
      "source": [
        "'--'.join(['1', '2', '3'])"
      ]
    },
    {
      "cell_type": "markdown",
      "metadata": {
        "id": "79u4D2wapRbE"
      },
      "source": [
        "A common pattern is to use the special character ``\"\\n\"`` (newline) to join together lines that have been previously split, and recover the input:"
      ]
    },
    {
      "cell_type": "code",
      "execution_count": 35,
      "metadata": {
        "id": "XpTVLVNVpRbE",
        "outputId": "f5f590d0-1271-43e7-eb2c-f8c8be6c8b5d",
        "colab": {
          "base_uri": "https://localhost:8080/"
        }
      },
      "outputs": [
        {
          "output_type": "stream",
          "name": "stdout",
          "text": [
            "matsushima-ya\n",
            "aah matsushima-ya\n",
            "matsushima-ya\n"
          ]
        }
      ],
      "source": [
        "print(\"\\n\".join(['matsushima-ya', 'aah matsushima-ya', 'matsushima-ya']))"
      ]
    },
    {
      "cell_type": "markdown",
      "metadata": {
        "id": "lJ6quTX6pRbE"
      },
      "source": [
        "## Format Strings\n",
        "\n",
        "In the preceding methods, we have learned how to extract values from strings, and to manipulate strings themselves into desired formats.\n",
        "Another use of string methods is to manipulate string *representations* of values of other types.\n",
        "Of course, string representations can always be found using the ``str()`` function; for example:"
      ]
    },
    {
      "cell_type": "code",
      "execution_count": 36,
      "metadata": {
        "id": "gifKXuFQpRbE",
        "outputId": "16d7ab89-aea4-4a54-df86-b07888e3cf10",
        "colab": {
          "base_uri": "https://localhost:8080/",
          "height": 35
        }
      },
      "outputs": [
        {
          "output_type": "execute_result",
          "data": {
            "text/plain": [
              "'3.14159'"
            ],
            "application/vnd.google.colaboratory.intrinsic+json": {
              "type": "string"
            }
          },
          "metadata": {},
          "execution_count": 36
        }
      ],
      "source": [
        "pi = 3.14159\n",
        "str(pi)"
      ]
    },
    {
      "cell_type": "markdown",
      "metadata": {
        "id": "WwdbJKOYpRbE"
      },
      "source": [
        "For more complicated formats, you might be tempted to use string arithmetic as outlined in [Basic Python Semantics: Operators](04-Semantics-Operators.ipynb):"
      ]
    },
    {
      "cell_type": "code",
      "execution_count": 37,
      "metadata": {
        "id": "cwDk1jdXpRbE",
        "outputId": "87a2207d-b79a-45d3-a2cf-80f7bd945958",
        "colab": {
          "base_uri": "https://localhost:8080/",
          "height": 35
        }
      },
      "outputs": [
        {
          "output_type": "execute_result",
          "data": {
            "text/plain": [
              "'The value of pi is 3.14159'"
            ],
            "application/vnd.google.colaboratory.intrinsic+json": {
              "type": "string"
            }
          },
          "metadata": {},
          "execution_count": 37
        }
      ],
      "source": [
        "\"The value of pi is \" + str(pi)"
      ]
    },
    {
      "cell_type": "markdown",
      "metadata": {
        "id": "iHTOnrzBpRbE"
      },
      "source": [
        "A more flexible way to do this is to use *format strings*, which are strings with special markers (noted by curly braces) into which string-formatted values will be inserted.\n",
        "Here is a basic example:"
      ]
    },
    {
      "cell_type": "code",
      "execution_count": 38,
      "metadata": {
        "id": "pezv3JHnpRbF",
        "outputId": "99f9811a-22f8-4bdf-ff0c-ab103bbe13b6",
        "colab": {
          "base_uri": "https://localhost:8080/",
          "height": 35
        }
      },
      "outputs": [
        {
          "output_type": "execute_result",
          "data": {
            "text/plain": [
              "'The value of pi is 3.14159'"
            ],
            "application/vnd.google.colaboratory.intrinsic+json": {
              "type": "string"
            }
          },
          "metadata": {},
          "execution_count": 38
        }
      ],
      "source": [
        "\"The value of pi is {}\".format(pi)"
      ]
    },
    {
      "cell_type": "markdown",
      "metadata": {
        "id": "IbjUi48PpRbF"
      },
      "source": [
        "Inside the ``{}`` marker you can also include information on exactly *what* you would like to appear there.\n",
        "If you include a number, it will refer to the index of the argument to insert:"
      ]
    },
    {
      "cell_type": "code",
      "execution_count": 39,
      "metadata": {
        "id": "3tlMmBMvpRbF",
        "outputId": "b28235ab-fe34-4343-9c31-a90be0aae4d3",
        "colab": {
          "base_uri": "https://localhost:8080/",
          "height": 35
        }
      },
      "outputs": [
        {
          "output_type": "execute_result",
          "data": {
            "text/plain": [
              "'First letter: A. Last letter: Z.'"
            ],
            "application/vnd.google.colaboratory.intrinsic+json": {
              "type": "string"
            }
          },
          "metadata": {},
          "execution_count": 39
        }
      ],
      "source": [
        "\"\"\"First letter: {0}. Last letter: {1}.\"\"\".format('A', 'Z')"
      ]
    },
    {
      "cell_type": "markdown",
      "metadata": {
        "id": "O9zC1kRtpRbF"
      },
      "source": [
        "If you include a string, it will refer to the key of any keyword argument:"
      ]
    },
    {
      "cell_type": "code",
      "execution_count": 40,
      "metadata": {
        "id": "wjMwIjmFpRbF",
        "outputId": "ee57529a-4088-4df5-e5b8-d03de92dfeaa",
        "colab": {
          "base_uri": "https://localhost:8080/",
          "height": 35
        }
      },
      "outputs": [
        {
          "output_type": "execute_result",
          "data": {
            "text/plain": [
              "'First letter: A. Last letter: Z.'"
            ],
            "application/vnd.google.colaboratory.intrinsic+json": {
              "type": "string"
            }
          },
          "metadata": {},
          "execution_count": 40
        }
      ],
      "source": [
        "\"\"\"First letter: {first}. Last letter: {last}.\"\"\".format(last='Z', first='A')"
      ]
    },
    {
      "cell_type": "markdown",
      "metadata": {
        "id": "hOVFLtnapRbF"
      },
      "source": [
        "Finally, for numerical inputs, you can include format codes which control how the value is converted to a string.\n",
        "For example, to print a number as a floating point with three digits after the decimal point, you can use the following:"
      ]
    },
    {
      "cell_type": "code",
      "execution_count": 41,
      "metadata": {
        "id": "SE3mLIoCpRbF",
        "outputId": "16010ec8-acd1-49ce-d4d9-0ed737d55431",
        "colab": {
          "base_uri": "https://localhost:8080/",
          "height": 35
        }
      },
      "outputs": [
        {
          "output_type": "execute_result",
          "data": {
            "text/plain": [
              "'pi = 3.142'"
            ],
            "application/vnd.google.colaboratory.intrinsic+json": {
              "type": "string"
            }
          },
          "metadata": {},
          "execution_count": 41
        }
      ],
      "source": [
        "\"pi = {0:.3f}\".format(pi)"
      ]
    },
    {
      "cell_type": "markdown",
      "metadata": {
        "id": "tYXH7v4hpRbG"
      },
      "source": [
        "As before, here the \"``0``\" refers to the index of the value to be inserted.\n",
        "The \"``:``\" marks that format codes will follow.\n",
        "The \"``.3f``\" encodes the desired precision: three digits beyond the decimal point, floating-point format.\n",
        "\n",
        "This style of format specification is very flexible, and the examples here barely scratch the surface of the formatting options available.\n",
        "For more information on the syntax of these format strings, see the [Format Specification](https://docs.python.org/3/library/string.html#formatspec) section of Python's online documentation."
      ]
    },
    {
      "cell_type": "markdown",
      "metadata": {
        "id": "eB9PUIzDpRbG"
      },
      "source": [
        "## Flexible Pattern Matching with Regular Expressions\n",
        "\n",
        "The methods of Python's ``str`` type give you a powerful set of tools for formatting, splitting, and manipulating string data.\n",
        "But even more powerful tools are available in Python's built-in *regular expression* module.\n",
        "Regular expressions are a huge topic; there are there are entire books written on the topic (including Jeffrey E.F. Friedl’s [*Mastering Regular Expressions, 3rd Edition*](http://shop.oreilly.com/product/9780596528126.do)), so it will be hard to do justice within just a single subsection.\n",
        "\n",
        "My goal here is to give you an idea of the types of problems that might be addressed using regular expressions, as well as a basic idea of how to use them in Python.\n",
        "I'll suggest some references for learning more in [Further Resources on Regular Expressions](#Further-Resources-on-Regular-Expressions).\n",
        "\n",
        "Fundamentally, regular expressions are a means of *flexible pattern matching* in strings.\n",
        "If you frequently use the command-line, you are probably familiar with this type of flexible matching with the \"``*``\" character, which acts as a wildcard.\n",
        "For example, we can list all the IPython notebooks (i.e., files with extension *.ipynb*) with \"Python\" in their filename by using the \"``*``\" wildcard to match any characters in between:"
      ]
    },
    {
      "cell_type": "code",
      "execution_count": 42,
      "metadata": {
        "id": "7d2PthTApRbG",
        "outputId": "84b00d1f-b7bc-41d2-9f53-b0f798b99264",
        "colab": {
          "base_uri": "https://localhost:8080/"
        }
      },
      "outputs": [
        {
          "output_type": "stream",
          "name": "stdout",
          "text": [
            "ls: cannot access '*Python*.ipynb': No such file or directory\n"
          ]
        }
      ],
      "source": [
        "!ls *Python*.ipynb"
      ]
    },
    {
      "cell_type": "markdown",
      "metadata": {
        "id": "u2zn0ctBpRbG"
      },
      "source": [
        "Regular expressions generalize this \"wildcard\" idea to a wide range of flexible string-matching sytaxes.\n",
        "The Python interface to regular expressions is contained in the built-in ``re`` module; as a simple example, let's use it to duplicate the functionality of the string ``split()`` method:"
      ]
    },
    {
      "cell_type": "code",
      "execution_count": 43,
      "metadata": {
        "id": "KG8Iadm_pRbG",
        "outputId": "a47f4a11-1bd0-4168-e3e1-bddf869622af",
        "colab": {
          "base_uri": "https://localhost:8080/"
        }
      },
      "outputs": [
        {
          "output_type": "execute_result",
          "data": {
            "text/plain": [
              "['the', 'quick', 'brown', 'fox', 'jumped', 'over', 'a', 'lazy', 'dog']"
            ]
          },
          "metadata": {},
          "execution_count": 43
        }
      ],
      "source": [
        "import re\n",
        "regex = re.compile('\\s+')\n",
        "regex.split(line)"
      ]
    },
    {
      "cell_type": "markdown",
      "metadata": {
        "id": "Zipxi8BTpRbH"
      },
      "source": [
        "Here we've first *compiled* a regular expression, then used it to *split* a string.\n",
        "Just as Python's ``split()`` method returns a list of all substrings between whitespace, the regular expression ``split()`` method returns a list of all substrings between matches to the input pattern.\n",
        "\n",
        "In this case, the input is ``\"\\s+\"``: \"``\\s``\" is a special character that matches any whitespace (space, tab, newline, etc.), and the \"``+``\" is a character that indicates *one or more* of the entity preceding it.\n",
        "Thus, the regular expression matches any substring consisting of one or more spaces.\n",
        "\n",
        "The ``split()`` method here is basically a convenience routine built upon this *pattern matching* behavior; more fundamental is the ``match()`` method, which will tell you whether the beginning of a string matches the pattern:"
      ]
    },
    {
      "cell_type": "code",
      "execution_count": 44,
      "metadata": {
        "id": "FNX22EbwpRbH",
        "outputId": "1f9568ae-a332-4921-d257-cd229545a054",
        "colab": {
          "base_uri": "https://localhost:8080/"
        }
      },
      "outputs": [
        {
          "output_type": "stream",
          "name": "stdout",
          "text": [
            "'     ' matches\n",
            "'abc  ' does not match\n",
            "'  abc' matches\n"
          ]
        }
      ],
      "source": [
        "for s in [\"     \", \"abc  \", \"  abc\"]:\n",
        "    if regex.match(s):\n",
        "        print(repr(s), \"matches\")\n",
        "    else:\n",
        "        print(repr(s), \"does not match\")"
      ]
    },
    {
      "cell_type": "markdown",
      "metadata": {
        "id": "fbnbjPdfpRbH"
      },
      "source": [
        "Like ``split()``, there are similar convenience routines to find the first match (like ``str.index()`` or ``str.find()``) or to find and replace (like ``str.replace()``).\n",
        "We'll again use the line from before:"
      ]
    },
    {
      "cell_type": "code",
      "execution_count": 45,
      "metadata": {
        "collapsed": true,
        "id": "OdTSkQsKpRbH"
      },
      "outputs": [],
      "source": [
        "line = 'the quick brown fox jumped over a lazy dog'"
      ]
    },
    {
      "cell_type": "markdown",
      "metadata": {
        "id": "uZt7YE3QpRbH"
      },
      "source": [
        "With this, we can see that the ``regex.search()`` method operates a lot like ``str.index()`` or ``str.find()``:"
      ]
    },
    {
      "cell_type": "code",
      "execution_count": 46,
      "metadata": {
        "id": "UtEjkqkupRbH",
        "outputId": "f9f2ad18-6519-40df-b959-67c19b9ebee3",
        "colab": {
          "base_uri": "https://localhost:8080/"
        }
      },
      "outputs": [
        {
          "output_type": "execute_result",
          "data": {
            "text/plain": [
              "16"
            ]
          },
          "metadata": {},
          "execution_count": 46
        }
      ],
      "source": [
        "line.index('fox')"
      ]
    },
    {
      "cell_type": "code",
      "execution_count": 47,
      "metadata": {
        "id": "AVYUYBQbpRbH",
        "outputId": "1dfefad1-68e6-4c8a-9943-d3246d324e8e",
        "colab": {
          "base_uri": "https://localhost:8080/"
        }
      },
      "outputs": [
        {
          "output_type": "execute_result",
          "data": {
            "text/plain": [
              "16"
            ]
          },
          "metadata": {},
          "execution_count": 47
        }
      ],
      "source": [
        "regex = re.compile('fox')\n",
        "match = regex.search(line)\n",
        "match.start()"
      ]
    },
    {
      "cell_type": "markdown",
      "metadata": {
        "id": "CRQPSmGypRbI"
      },
      "source": [
        "Similarly, the ``regex.sub()`` method operates much like ``str.replace()``:"
      ]
    },
    {
      "cell_type": "code",
      "execution_count": 48,
      "metadata": {
        "id": "y3YFFRGZpRbI",
        "outputId": "810d65e4-f351-47f9-8ddd-9a1f3d003f86",
        "colab": {
          "base_uri": "https://localhost:8080/",
          "height": 35
        }
      },
      "outputs": [
        {
          "output_type": "execute_result",
          "data": {
            "text/plain": [
              "'the quick brown BEAR jumped over a lazy dog'"
            ],
            "application/vnd.google.colaboratory.intrinsic+json": {
              "type": "string"
            }
          },
          "metadata": {},
          "execution_count": 48
        }
      ],
      "source": [
        "line.replace('fox', 'BEAR')"
      ]
    },
    {
      "cell_type": "code",
      "execution_count": 49,
      "metadata": {
        "id": "6ZhBNUpJpRbI",
        "outputId": "f93e20f1-fdef-4223-ad6f-876e6425de47",
        "colab": {
          "base_uri": "https://localhost:8080/",
          "height": 35
        }
      },
      "outputs": [
        {
          "output_type": "execute_result",
          "data": {
            "text/plain": [
              "'the quick brown BEAR jumped over a lazy dog'"
            ],
            "application/vnd.google.colaboratory.intrinsic+json": {
              "type": "string"
            }
          },
          "metadata": {},
          "execution_count": 49
        }
      ],
      "source": [
        "regex.sub('BEAR', line)"
      ]
    },
    {
      "cell_type": "markdown",
      "metadata": {
        "id": "-qTEXp1HpRbI"
      },
      "source": [
        "With a bit of thought, other native string operations can also be cast as regular expressions."
      ]
    },
    {
      "cell_type": "markdown",
      "metadata": {
        "id": "Z7OPpA3YpRbI"
      },
      "source": [
        "### A more sophisticated example\n",
        "\n",
        "But, you might ask, why would you want to use the more complicated and verbose syntax of regular expressions rather than the more intuitive and simple string methods?\n",
        "The advantage is that regular expressions offer *far* more flexibility.\n",
        "\n",
        "Here we'll consider a more complicated example: the common task of matching email addresses.\n",
        "I'll start by simply writing a (somewhat indecipherable) regular expression, and then walk through what is going on.\n",
        "Here it goes:"
      ]
    },
    {
      "cell_type": "code",
      "execution_count": 50,
      "metadata": {
        "collapsed": true,
        "id": "LWYMcmHzpRbI"
      },
      "outputs": [],
      "source": [
        "email = re.compile('\\w+@\\w+\\.[a-z]{3}')"
      ]
    },
    {
      "cell_type": "markdown",
      "metadata": {
        "id": "25b_6dd2pRbI"
      },
      "source": [
        "Using this, if we're given a line from a document, we can quickly extract things that look like email addresses"
      ]
    },
    {
      "cell_type": "code",
      "execution_count": 51,
      "metadata": {
        "id": "5TIF46aCpRbJ",
        "outputId": "27edaaf5-4410-40c8-b093-46bb1a49d16a",
        "colab": {
          "base_uri": "https://localhost:8080/"
        }
      },
      "outputs": [
        {
          "output_type": "execute_result",
          "data": {
            "text/plain": [
              "['guido@python.org', 'guido@google.com']"
            ]
          },
          "metadata": {},
          "execution_count": 51
        }
      ],
      "source": [
        "text = \"To email Guido, try guido@python.org or the older address guido@google.com.\"\n",
        "email.findall(text)"
      ]
    },
    {
      "cell_type": "markdown",
      "metadata": {
        "id": "HoMmIQnNpRbJ"
      },
      "source": [
        "(Note that these addresses are entirely made up; there are probably better ways to get in touch with Guido).\n",
        "\n",
        "We can do further operations, like replacing these email addresses with another string, perhaps to hide addresses in the output:"
      ]
    },
    {
      "cell_type": "code",
      "execution_count": 52,
      "metadata": {
        "id": "qQbn7hpOpRbJ",
        "outputId": "84a49751-eac8-4a4a-bf3e-a6b791b9facb",
        "colab": {
          "base_uri": "https://localhost:8080/",
          "height": 35
        }
      },
      "outputs": [
        {
          "output_type": "execute_result",
          "data": {
            "text/plain": [
              "'To email Guido, try --@--.-- or the older address --@--.--.'"
            ],
            "application/vnd.google.colaboratory.intrinsic+json": {
              "type": "string"
            }
          },
          "metadata": {},
          "execution_count": 52
        }
      ],
      "source": [
        "email.sub('--@--.--', text)"
      ]
    },
    {
      "cell_type": "markdown",
      "metadata": {
        "id": "veZQXZ2FpRbJ"
      },
      "source": [
        "Finally, note that if you really want to match *any* email address, the preceding regular expression is far too simple.\n",
        "For example, it only allows addresses made of alphanumeric characters that end in one of several common domain suffixes.\n",
        "So, for example, the period used here means that we only find part of the address:"
      ]
    },
    {
      "cell_type": "code",
      "execution_count": 53,
      "metadata": {
        "id": "X2NwN6RspRbJ",
        "outputId": "ce067d4e-e8f5-4803-c6d7-6b60e3a380cf",
        "colab": {
          "base_uri": "https://localhost:8080/"
        }
      },
      "outputs": [
        {
          "output_type": "execute_result",
          "data": {
            "text/plain": [
              "['obama@whitehouse.gov']"
            ]
          },
          "metadata": {},
          "execution_count": 53
        }
      ],
      "source": [
        "email.findall('barack.obama@whitehouse.gov')"
      ]
    },
    {
      "cell_type": "markdown",
      "metadata": {
        "id": "DxFSPTb-pRbJ"
      },
      "source": [
        "This goes to show how unforgiving regular expressions can be if you're not careful!\n",
        "If you search around online, you can find some suggestions for regular expressions that will match *all* valid emails, but beware: they are much more involved than the simple expression used here!"
      ]
    },
    {
      "cell_type": "markdown",
      "metadata": {
        "id": "fbQCQ1P2pRbJ"
      },
      "source": [
        "### Basics of regular expression syntax\n",
        "\n",
        "The syntax of regular expressions is much too large a topic for this short section.\n",
        "Still, a bit of familiarity can go a long way: I will walk through some of the basic constructs here, and then list some more complete resources from which you can learn more.\n",
        "My hope is that the following quick primer will enable you to use these resources effectively."
      ]
    },
    {
      "cell_type": "markdown",
      "metadata": {
        "id": "9kdN1cnypRbK"
      },
      "source": [
        "#### Simple strings are matched directly\n",
        "\n",
        "If you build a regular expression on a simple string of characters or digits, it will match that exact string:"
      ]
    },
    {
      "cell_type": "code",
      "execution_count": 54,
      "metadata": {
        "id": "hWoQRajKpRbK",
        "outputId": "787121b3-cfe8-4d19-9bbf-c528ea33314e",
        "colab": {
          "base_uri": "https://localhost:8080/"
        }
      },
      "outputs": [
        {
          "output_type": "execute_result",
          "data": {
            "text/plain": [
              "['ion']"
            ]
          },
          "metadata": {},
          "execution_count": 54
        }
      ],
      "source": [
        "regex = re.compile('ion')\n",
        "regex.findall('Great Expectations')"
      ]
    },
    {
      "cell_type": "markdown",
      "metadata": {
        "id": "QuSOXuBnpRbK"
      },
      "source": [
        "#### Some characters have special meanings\n",
        "\n",
        "While simple letters or numbers are direct matches, there are a handful of characters that have special meanings within regular expressions. They are:\n",
        "<!-- ```\n",
        ". ^ $ * + ? { } [ ] \\ | ( ) -->\n",
        "```\n",
        "We will discuss the meaning of some of these momentarily.\n",
        "In the meantime, you should know that if you'd like to match any of these characters directly, you can *escape* them with a back-slash:"
      ]
    },
    {
      "cell_type": "code",
      "execution_count": 55,
      "metadata": {
        "id": "pIYlj0zgpRbK",
        "outputId": "e85d3887-7b54-4eeb-acd9-79125e2a46f0",
        "colab": {
          "base_uri": "https://localhost:8080/"
        }
      },
      "outputs": [
        {
          "output_type": "execute_result",
          "data": {
            "text/plain": [
              "['$']"
            ]
          },
          "metadata": {},
          "execution_count": 55
        }
      ],
      "source": [
        "regex = re.compile(r'\\$')\n",
        "regex.findall(\"the cost is $20\")"
      ]
    },
    {
      "cell_type": "markdown",
      "metadata": {
        "id": "J8uaE5OmpRbK"
      },
      "source": [
        "The ``r`` preface in ``r'\\$'`` indicates a *raw string*; in standard Python strings, the backslash is used to indicate special characters.\n",
        "For example, a tab is indicated by ``\"\\t\"``:"
      ]
    },
    {
      "cell_type": "code",
      "execution_count": 56,
      "metadata": {
        "id": "q4gUx3dTpRbK",
        "outputId": "e4c2a403-dbad-4ce6-8a3d-f394c6226338",
        "colab": {
          "base_uri": "https://localhost:8080/"
        }
      },
      "outputs": [
        {
          "output_type": "stream",
          "name": "stdout",
          "text": [
            "a\tb\tc\n"
          ]
        }
      ],
      "source": [
        "print('a\\tb\\tc')"
      ]
    },
    {
      "cell_type": "markdown",
      "metadata": {
        "id": "zYR-e-1GpRbK"
      },
      "source": [
        "Such substitutions are not made in a raw string:"
      ]
    },
    {
      "cell_type": "code",
      "execution_count": 57,
      "metadata": {
        "id": "eLeUYOjnpRbK",
        "outputId": "6cce8b80-37e6-4ea7-c9cd-7b4c33dfd279",
        "colab": {
          "base_uri": "https://localhost:8080/"
        }
      },
      "outputs": [
        {
          "output_type": "stream",
          "name": "stdout",
          "text": [
            "a\\tb\\tc\n"
          ]
        }
      ],
      "source": [
        "print(r'a\\tb\\tc')"
      ]
    },
    {
      "cell_type": "markdown",
      "metadata": {
        "id": "M4nP7woopRbL"
      },
      "source": [
        "For this reason, whenever you use backslashes in a regular expression, it is good practice to use a raw string."
      ]
    },
    {
      "cell_type": "markdown",
      "metadata": {
        "id": "FzGG9-_spRbL"
      },
      "source": [
        "#### Special characters can match character groups\n",
        "\n",
        "Just as the ``\"\\\"`` character within regular expressions can escape special characters, turning them into normal characters, it can also be used to give normal characters special meaning.\n",
        "These special characters match specified groups of characters, and we've seen them before.\n",
        "In the email address regexp from before, we used the character ``\"\\w\"``, which is a special marker matching *any alphanumeric character*. Similarly, in the simple ``split()`` example, we also saw ``\"\\s\"``, a special marker indicating *any whitespace character*.\n",
        "\n",
        "Putting these together, we can create a regular expression that will match *any two letters/digits with whitespace between them*:"
      ]
    },
    {
      "cell_type": "code",
      "execution_count": 58,
      "metadata": {
        "id": "d90sOoIppRbL",
        "outputId": "64fcf4b6-6ec2-4115-dd28-15cefeaf3ff8",
        "colab": {
          "base_uri": "https://localhost:8080/"
        }
      },
      "outputs": [
        {
          "output_type": "execute_result",
          "data": {
            "text/plain": [
              "['e f', 'x i', 's 9', 's o']"
            ]
          },
          "metadata": {},
          "execution_count": 58
        }
      ],
      "source": [
        "regex = re.compile(r'\\w\\s\\w')\n",
        "regex.findall('the fox is 9 years old')"
      ]
    },
    {
      "cell_type": "markdown",
      "metadata": {
        "id": "V4OGI9OepRbL"
      },
      "source": [
        "This example begins to hint at the power and flexibility of regular expressions."
      ]
    },
    {
      "cell_type": "markdown",
      "metadata": {
        "id": "ALnJKaXcpRbL"
      },
      "source": [
        "The following table lists a few of these characters that are commonly useful:\n",
        "\n",
        "| Character | Description                 || Character | Description                     |\n",
        "|-----------|-----------------------------||-----------|---------------------------------|\n",
        "| ``\"\\d\"``  | Match any digit             || ``\"\\D\"``  | Match any non-digit             |\n",
        "| ``\"\\s\"``  | Match any whitespace        || ``\"\\S\"``  | Match any non-whitespace        |\n",
        "| ``\"\\w\"``  | Match any alphanumeric char || ``\"\\W\"``  | Match any non-alphanumeric char |\n",
        "\n",
        "This is *not* a comprehensive list or description; for more details, see Python's [regular expression syntax documentation](https://docs.python.org/3/library/re.html#re-syntax)."
      ]
    },
    {
      "cell_type": "markdown",
      "metadata": {
        "id": "yrS3dOLnpRbL"
      },
      "source": [
        "#### Square brackets match custom character groups\n",
        "\n",
        "If the built-in character groups aren't specific enough for you, you can use square brackets to specify any set of characters you're interested in.\n",
        "For example, the following will match any lower-case vowel:"
      ]
    },
    {
      "cell_type": "code",
      "execution_count": 59,
      "metadata": {
        "id": "tKDY24pbpRbL",
        "outputId": "d95b7e26-4f3d-444c-de7c-046d3411057d",
        "colab": {
          "base_uri": "https://localhost:8080/"
        }
      },
      "outputs": [
        {
          "output_type": "execute_result",
          "data": {
            "text/plain": [
              "['c', 'ns', 'q', '', 'nt', '', 'l']"
            ]
          },
          "metadata": {},
          "execution_count": 59
        }
      ],
      "source": [
        "regex = re.compile('[aeiou]')\n",
        "regex.split('consequential')"
      ]
    },
    {
      "cell_type": "markdown",
      "metadata": {
        "id": "RyNxgALIpRbM"
      },
      "source": [
        "Similarly, you can use a dash to specify a range: for example, ``\"[a-z]\"`` will match any lower-case letter, and ``\"[1-3]\"`` will match any of ``\"1\"``, ``\"2\"``, or ``\"3\"``.\n",
        "For instance, you may need to extract from a document specific numerical codes that consist of a capital letter followed by a digit. You could do this as follows:"
      ]
    },
    {
      "cell_type": "code",
      "execution_count": 60,
      "metadata": {
        "id": "ECvrJyFTpRbM",
        "outputId": "516df4de-e039-42b4-de5a-e9354b4aa562",
        "colab": {
          "base_uri": "https://localhost:8080/"
        }
      },
      "outputs": [
        {
          "output_type": "execute_result",
          "data": {
            "text/plain": [
              "['G2', 'H6']"
            ]
          },
          "metadata": {},
          "execution_count": 60
        }
      ],
      "source": [
        "regex = re.compile('[A-Z][0-9]')\n",
        "regex.findall('1043879, G2, H6')"
      ]
    },
    {
      "cell_type": "markdown",
      "metadata": {
        "id": "meZZpDC-pRbM"
      },
      "source": [
        "#### Wildcards match repeated characters\n",
        "\n",
        "If you would like to match a string with, say, three alphanumeric characters in a row, it is possible to write, for example, ``\"\\w\\w\\w\"``.\n",
        "Because this is such a common need, there is a specific syntax to match repetitions – curly braces with a number:"
      ]
    },
    {
      "cell_type": "code",
      "execution_count": 61,
      "metadata": {
        "id": "Vm4LWli3pRbM",
        "outputId": "3c7ed094-6324-4ebc-b228-6e799d69276f",
        "colab": {
          "base_uri": "https://localhost:8080/"
        }
      },
      "outputs": [
        {
          "output_type": "execute_result",
          "data": {
            "text/plain": [
              "['The', 'qui', 'bro', 'fox']"
            ]
          },
          "metadata": {},
          "execution_count": 61
        }
      ],
      "source": [
        "regex = re.compile(r'\\w{3}')\n",
        "regex.findall('The quick brown fox')"
      ]
    },
    {
      "cell_type": "markdown",
      "metadata": {
        "id": "wQ5rmnuGpRbM"
      },
      "source": [
        "There are also markers available to match any number of repetitions – for example, the ``\"+\"`` character will match *one or more* repetitions of what precedes it:"
      ]
    },
    {
      "cell_type": "code",
      "execution_count": 62,
      "metadata": {
        "id": "_V-kc-ygpRbM",
        "outputId": "b0ac59a9-636b-4791-a441-821d85f2a76c",
        "colab": {
          "base_uri": "https://localhost:8080/"
        }
      },
      "outputs": [
        {
          "output_type": "execute_result",
          "data": {
            "text/plain": [
              "['The', 'quick', 'brown', 'fox']"
            ]
          },
          "metadata": {},
          "execution_count": 62
        }
      ],
      "source": [
        "regex = re.compile(r'\\w+')\n",
        "regex.findall('The quick brown fox')"
      ]
    },
    {
      "cell_type": "markdown",
      "metadata": {
        "id": "A7K7qD9QpRbM"
      },
      "source": [
        "The following is a table of the repetition markers available for use in regular expressions:\n",
        "\n",
        "| Character | Description | Example |\n",
        "|-----------|-------------|---------|\n",
        "| ``?`` | Match zero or one repetitions of preceding  | ``\"ab?\"`` matches ``\"a\"`` or ``\"ab\"`` |\n",
        "| ``*`` | Match zero or more repetitions of preceding | ``\"ab*\"`` matches ``\"a\"``, ``\"ab\"``, ``\"abb\"``, ``\"abbb\"``... |\n",
        "| ``+`` | Match one or more repetitions of preceding  | ``\"ab+\"`` matches ``\"ab\"``, ``\"abb\"``, ``\"abbb\"``... but not ``\"a\"`` |\n",
        "| ``{n}`` | Match ``n`` repetitions of preeeding | ``\"ab{2}\"`` matches ``\"abb\"`` |\n",
        "| ``{m,n}`` | Match between ``m`` and ``n`` repetitions of preceding | ``\"ab{2,3}\"`` matches ``\"abb\"`` or ``\"abbb\"`` |"
      ]
    },
    {
      "cell_type": "markdown",
      "metadata": {
        "id": "frvj_ChBpRbN"
      },
      "source": [
        "With these basics in mind, let's return to our email address matcher:"
      ]
    },
    {
      "cell_type": "code",
      "execution_count": 63,
      "metadata": {
        "collapsed": true,
        "id": "rOB6xvpFpRbN"
      },
      "outputs": [],
      "source": [
        "email = re.compile(r'\\w+@\\w+\\.[a-z]{3}')"
      ]
    },
    {
      "cell_type": "markdown",
      "metadata": {
        "id": "NzqrSrxSpRbN"
      },
      "source": [
        "We can now understand what this means: we want one or more alphanumeric character (``\"\\w+\"``) followed by the *at sign* (``\"@\"``), followed by one or more alphanumeric character (``\"\\w+\"``), followed by a period (``\"\\.\"`` – note the need for a backslash escape), followed by exactly three lower-case letters.\n",
        "\n",
        "If we want to now modify this so that the Obama email address matches, we can do so using the square-bracket notation:"
      ]
    },
    {
      "cell_type": "code",
      "execution_count": 64,
      "metadata": {
        "id": "hvIm3nn0pRbN",
        "outputId": "d7be7e56-339a-4783-9352-3462ff5b7967",
        "colab": {
          "base_uri": "https://localhost:8080/"
        }
      },
      "outputs": [
        {
          "output_type": "execute_result",
          "data": {
            "text/plain": [
              "['barack.obama@whitehouse.gov']"
            ]
          },
          "metadata": {},
          "execution_count": 64
        }
      ],
      "source": [
        "email2 = re.compile(r'[\\w.]+@\\w+\\.[a-z]{3}')\n",
        "email2.findall('barack.obama@whitehouse.gov')"
      ]
    },
    {
      "cell_type": "markdown",
      "metadata": {
        "id": "dMdVTPK7pRbN"
      },
      "source": [
        "We have changed ``\"\\w+\"`` to ``\"[\\w.]+\"``, so we will match any alphanumeric character *or* a period.\n",
        "With this more flexible expression, we can match a wider range of email addresses (though still not all – can you identify other shortcomings of this expression?)."
      ]
    },
    {
      "cell_type": "markdown",
      "metadata": {
        "id": "MxoA0isOpRbN"
      },
      "source": [
        "#### Parentheses indicate *groups* to extract\n",
        "\n",
        "For compound regular expressions like our email matcher, we often want to extract their components rather than the full match. This can be done using parentheses to *group* the results:"
      ]
    },
    {
      "cell_type": "code",
      "execution_count": 65,
      "metadata": {
        "collapsed": true,
        "id": "VuinNONlpRbN"
      },
      "outputs": [],
      "source": [
        "email3 = re.compile(r'([\\w.]+)@(\\w+)\\.([a-z]{3})')"
      ]
    },
    {
      "cell_type": "code",
      "execution_count": 67,
      "metadata": {
        "id": "k3lR2BEtpRbO",
        "outputId": "0a153b42-14dd-44ba-8bec-b99606a25a71",
        "colab": {
          "base_uri": "https://localhost:8080/"
        }
      },
      "outputs": [
        {
          "output_type": "execute_result",
          "data": {
            "text/plain": [
              "[('guido', 'python', 'org'), ('guido', 'google', 'com')]"
            ]
          },
          "metadata": {},
          "execution_count": 67
        }
      ],
      "source": [
        "text = \"To email Guido, try guido@python.org or the older address guido@google.com.\"\n",
        "email3.findall(text)"
      ]
    },
    {
      "cell_type": "markdown",
      "metadata": {
        "id": "Q7635lmIpRbO"
      },
      "source": [
        "As we see, this grouping actually extracts a list of the sub-components of the email address.\n",
        "\n",
        "We can go a bit further and *name* the extracted components using the ``\"(?P<name> )\"`` syntax, in which case the groups can be extracted as a Python dictionary:"
      ]
    },
    {
      "cell_type": "code",
      "execution_count": 68,
      "metadata": {
        "id": "WfjNYBpTpRbO",
        "outputId": "8164461e-b92e-4545-fb99-aa212916198e",
        "colab": {
          "base_uri": "https://localhost:8080/"
        }
      },
      "outputs": [
        {
          "output_type": "execute_result",
          "data": {
            "text/plain": [
              "{'user': 'guido', 'domain': 'python', 'suffix': 'org'}"
            ]
          },
          "metadata": {},
          "execution_count": 68
        }
      ],
      "source": [
        "email4 = re.compile(r'(?P<user>[\\w.]+)@(?P<domain>\\w+)\\.(?P<suffix>[a-z]{3})')\n",
        "match = email4.match('guido@python.org')\n",
        "match.groupdict()"
      ]
    },
    {
      "cell_type": "markdown",
      "metadata": {
        "id": "_Z05sQv_pRbO"
      },
      "source": [
        "Combining these ideas (as well as some of the powerful regexp syntax that we have not covered here) allows you to flexibly and quickly extract information from strings in Python."
      ]
    },
    {
      "cell_type": "markdown",
      "metadata": {
        "id": "82mn_3-_pRbP"
      },
      "source": [
        "### Further Resources on Regular Expressions\n",
        "\n",
        "The above discussion is just a quick (and far from complete) treatment of this large topic.\n",
        "If you'd like to learn more, I recommend the following resources:\n",
        "\n",
        "- [Python's ``re`` package Documentation](https://docs.python.org/3/library/re.html): I find that I promptly forget how to use regular expressions just about every time I use them. Now that I have the basics down, I have found this page to be an incredibly valuable resource to recall what each specific character or sequence means within a regular expression.\n",
        "- [Python's official regular expression HOWTO](https://docs.python.org/3/howto/regex.html): a more narrative approach to regular expressions in Python.\n",
        "- [Mastering Regular Expressions (OReilly, 2006)](http://shop.oreilly.com/product/9780596528126.do) is a 500+ page book on the subject. If you want a really complete treatment of this topic, this is the resource for you.\n",
        "\n",
        "For some examples of string manipulation and regular expressions in action at a larger scale, see [Pandas: Labeled Column-oriented Data](15-Preview-of-Data-Science-Tools.ipynb#Pandas:-Labeled-Column-oriented-Data), where we look at applying these sorts of expressions across *tables* of string data within the Pandas package."
      ]
    },
    {
      "cell_type": "markdown",
      "metadata": {
        "id": "GgcN-raWpRbP"
      },
      "source": [
        "<!--NAVIGATION-->\n",
        "< [Modules and Packages](13-Modules-and-Packages.ipynb) | [Contents](Index.ipynb) | [A Preview of Data Science Tools](15-Preview-of-Data-Science-Tools.ipynb) >"
      ]
    }
  ],
  "metadata": {
    "anaconda-cloud": {},
    "kernelspec": {
      "display_name": "Python 3",
      "language": "python",
      "name": "python3"
    },
    "language_info": {
      "codemirror_mode": {
        "name": "ipython",
        "version": 3
      },
      "file_extension": ".py",
      "mimetype": "text/x-python",
      "name": "python",
      "nbconvert_exporter": "python",
      "pygments_lexer": "ipython3",
      "version": "3.5.1"
    },
    "colab": {
      "name": "08-Strings-and-Regular-Expressions.ipynb",
      "provenance": [],
      "include_colab_link": true
    }
  },
  "nbformat": 4,
  "nbformat_minor": 0
}